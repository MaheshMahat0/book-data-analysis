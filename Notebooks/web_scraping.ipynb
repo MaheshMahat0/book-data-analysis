{
 "cells": [
  {
   "cell_type": "markdown",
   "metadata": {},
   "source": [
    "# **Part 1: Web Scraping (Using Python)**"
   ]
  },
  {
   "cell_type": "code",
   "execution_count": 5,
   "metadata": {},
   "outputs": [],
   "source": [
    "import requests\n",
    "from bs4 import BeautifulSoup\n",
    "from tqdm import tqdm\n",
    "import pandas as pd\n",
    "import re"
   ]
  },
  {
   "cell_type": "code",
   "execution_count": null,
   "metadata": {},
   "outputs": [
    {
     "data": {
      "text/plain": [
       "['https://books.toscrape.com/catalogue/page-1.html',\n",
       " 'https://books.toscrape.com/catalogue/page-2.html',\n",
       " 'https://books.toscrape.com/catalogue/page-3.html',\n",
       " 'https://books.toscrape.com/catalogue/page-4.html',\n",
       " 'https://books.toscrape.com/catalogue/page-5.html',\n",
       " 'https://books.toscrape.com/catalogue/page-6.html',\n",
       " 'https://books.toscrape.com/catalogue/page-7.html',\n",
       " 'https://books.toscrape.com/catalogue/page-8.html',\n",
       " 'https://books.toscrape.com/catalogue/page-9.html',\n",
       " 'https://books.toscrape.com/catalogue/page-10.html',\n",
       " 'https://books.toscrape.com/catalogue/page-11.html',\n",
       " 'https://books.toscrape.com/catalogue/page-12.html',\n",
       " 'https://books.toscrape.com/catalogue/page-13.html',\n",
       " 'https://books.toscrape.com/catalogue/page-14.html',\n",
       " 'https://books.toscrape.com/catalogue/page-15.html',\n",
       " 'https://books.toscrape.com/catalogue/page-16.html',\n",
       " 'https://books.toscrape.com/catalogue/page-17.html',\n",
       " 'https://books.toscrape.com/catalogue/page-18.html',\n",
       " 'https://books.toscrape.com/catalogue/page-19.html',\n",
       " 'https://books.toscrape.com/catalogue/page-20.html',\n",
       " 'https://books.toscrape.com/catalogue/page-21.html',\n",
       " 'https://books.toscrape.com/catalogue/page-22.html',\n",
       " 'https://books.toscrape.com/catalogue/page-23.html',\n",
       " 'https://books.toscrape.com/catalogue/page-24.html',\n",
       " 'https://books.toscrape.com/catalogue/page-25.html',\n",
       " 'https://books.toscrape.com/catalogue/page-26.html',\n",
       " 'https://books.toscrape.com/catalogue/page-27.html',\n",
       " 'https://books.toscrape.com/catalogue/page-28.html',\n",
       " 'https://books.toscrape.com/catalogue/page-29.html',\n",
       " 'https://books.toscrape.com/catalogue/page-30.html',\n",
       " 'https://books.toscrape.com/catalogue/page-31.html',\n",
       " 'https://books.toscrape.com/catalogue/page-32.html',\n",
       " 'https://books.toscrape.com/catalogue/page-33.html',\n",
       " 'https://books.toscrape.com/catalogue/page-34.html',\n",
       " 'https://books.toscrape.com/catalogue/page-35.html',\n",
       " 'https://books.toscrape.com/catalogue/page-36.html',\n",
       " 'https://books.toscrape.com/catalogue/page-37.html',\n",
       " 'https://books.toscrape.com/catalogue/page-38.html',\n",
       " 'https://books.toscrape.com/catalogue/page-39.html',\n",
       " 'https://books.toscrape.com/catalogue/page-40.html',\n",
       " 'https://books.toscrape.com/catalogue/page-41.html',\n",
       " 'https://books.toscrape.com/catalogue/page-42.html',\n",
       " 'https://books.toscrape.com/catalogue/page-43.html',\n",
       " 'https://books.toscrape.com/catalogue/page-44.html',\n",
       " 'https://books.toscrape.com/catalogue/page-45.html',\n",
       " 'https://books.toscrape.com/catalogue/page-46.html',\n",
       " 'https://books.toscrape.com/catalogue/page-47.html',\n",
       " 'https://books.toscrape.com/catalogue/page-48.html',\n",
       " 'https://books.toscrape.com/catalogue/page-49.html',\n",
       " 'https://books.toscrape.com/catalogue/page-50.html']"
      ]
     },
     "execution_count": 24,
     "metadata": {},
     "output_type": "execute_result"
    }
   ],
   "source": [
    "url = \"https://books.toscrape.com/catalogue/page-.html\"\n",
    "all_link = []\n",
    "for i in range(1,51):\n",
    "    j = f'https://books.toscrape.com/catalogue/page-{i}.html'\n",
    "    all_link.append(j)\n",
    "\n",
    "all_link"
   ]
  },
  {
   "cell_type": "code",
   "execution_count": 25,
   "metadata": {},
   "outputs": [
    {
     "name": "stderr",
     "output_type": "stream",
     "text": [
      "100%|██████████| 50/50 [01:27<00:00,  1.76s/it]\n"
     ]
    }
   ],
   "source": [
    "Title = []\n",
    "Price = []\n",
    "Availability = []\n",
    "Rating = []\n",
    "for i in tqdm(all_link):\n",
    "    data = requests.get(i)\n",
    "    soup = BeautifulSoup(data.text, \"html.parser\")\n",
    "    container = soup.find_all('li', class_ = \"col-xs-6 col-sm-4 col-md-3 col-lg-3\")\n",
    "    for i in container:\n",
    "        try:\n",
    "            Title.append(i.h3.a['title'])\n",
    "        except:\n",
    "            Title.append(None)\n",
    "        try:\n",
    "            value = i.find(\"p\", class_ = \"price_color\").text\n",
    "            final_value = float(re.sub(r'[^0-9.]',\"\", value))\n",
    "            #re.sub use for replace all the word exclude that letter which is mention inside the sqaure bracket\n",
    "            Price.append(final_value)\n",
    "        except:\n",
    "            Price.append(None)\n",
    "        try:\n",
    "            Availability.append(i.find(\"p\", class_ = \"instock availability\").get_text(strip = True))\n",
    "            #Here I am getting multiple spaces so that i use strip\n",
    "        except:\n",
    "            Availability.append(None)\n",
    "        try:\n",
    "            k = i.find('p', class_='star-rating').get('class')\n",
    "            l = k[1].lower()\n",
    "            if l == \"one\":\n",
    "                Rating.append(1) #here is the value written in words so I converted into the number\n",
    "            elif l == \"two\":\n",
    "                Rating.append(2)\n",
    "            elif l == \"three\":\n",
    "                Rating.append(3)\n",
    "            elif l == \"four\":\n",
    "                Rating.append(4)\n",
    "            elif l == \"five\":\n",
    "                Rating.append(5)\n",
    "            else:\n",
    "                Rating.append(0)\n",
    "        except:\n",
    "            Rating.append(None)\n",
    "        "
   ]
  },
  {
   "cell_type": "code",
   "execution_count": 27,
   "metadata": {},
   "outputs": [
    {
     "data": {
      "text/html": [
       "<div>\n",
       "<style scoped>\n",
       "    .dataframe tbody tr th:only-of-type {\n",
       "        vertical-align: middle;\n",
       "    }\n",
       "\n",
       "    .dataframe tbody tr th {\n",
       "        vertical-align: top;\n",
       "    }\n",
       "\n",
       "    .dataframe thead th {\n",
       "        text-align: right;\n",
       "    }\n",
       "</style>\n",
       "<table border=\"1\" class=\"dataframe\">\n",
       "  <thead>\n",
       "    <tr style=\"text-align: right;\">\n",
       "      <th></th>\n",
       "      <th>Title</th>\n",
       "      <th>Price</th>\n",
       "      <th>Ratings</th>\n",
       "      <th>Availability</th>\n",
       "    </tr>\n",
       "  </thead>\n",
       "  <tbody>\n",
       "    <tr>\n",
       "      <th>0</th>\n",
       "      <td>A Light in the Attic</td>\n",
       "      <td>51.77</td>\n",
       "      <td>3</td>\n",
       "      <td>In stock</td>\n",
       "    </tr>\n",
       "    <tr>\n",
       "      <th>1</th>\n",
       "      <td>Tipping the Velvet</td>\n",
       "      <td>53.74</td>\n",
       "      <td>1</td>\n",
       "      <td>In stock</td>\n",
       "    </tr>\n",
       "    <tr>\n",
       "      <th>2</th>\n",
       "      <td>Soumission</td>\n",
       "      <td>50.10</td>\n",
       "      <td>1</td>\n",
       "      <td>In stock</td>\n",
       "    </tr>\n",
       "    <tr>\n",
       "      <th>3</th>\n",
       "      <td>Sharp Objects</td>\n",
       "      <td>47.82</td>\n",
       "      <td>4</td>\n",
       "      <td>In stock</td>\n",
       "    </tr>\n",
       "    <tr>\n",
       "      <th>4</th>\n",
       "      <td>Sapiens: A Brief History of Humankind</td>\n",
       "      <td>54.23</td>\n",
       "      <td>5</td>\n",
       "      <td>In stock</td>\n",
       "    </tr>\n",
       "    <tr>\n",
       "      <th>...</th>\n",
       "      <td>...</td>\n",
       "      <td>...</td>\n",
       "      <td>...</td>\n",
       "      <td>...</td>\n",
       "    </tr>\n",
       "    <tr>\n",
       "      <th>995</th>\n",
       "      <td>Alice in Wonderland (Alice's Adventures in Won...</td>\n",
       "      <td>55.53</td>\n",
       "      <td>1</td>\n",
       "      <td>In stock</td>\n",
       "    </tr>\n",
       "    <tr>\n",
       "      <th>996</th>\n",
       "      <td>Ajin: Demi-Human, Volume 1 (Ajin: Demi-Human #1)</td>\n",
       "      <td>57.06</td>\n",
       "      <td>4</td>\n",
       "      <td>In stock</td>\n",
       "    </tr>\n",
       "    <tr>\n",
       "      <th>997</th>\n",
       "      <td>A Spy's Devotion (The Regency Spies of London #1)</td>\n",
       "      <td>16.97</td>\n",
       "      <td>5</td>\n",
       "      <td>In stock</td>\n",
       "    </tr>\n",
       "    <tr>\n",
       "      <th>998</th>\n",
       "      <td>1st to Die (Women's Murder Club #1)</td>\n",
       "      <td>53.98</td>\n",
       "      <td>1</td>\n",
       "      <td>In stock</td>\n",
       "    </tr>\n",
       "    <tr>\n",
       "      <th>999</th>\n",
       "      <td>1,000 Places to See Before You Die</td>\n",
       "      <td>26.08</td>\n",
       "      <td>5</td>\n",
       "      <td>In stock</td>\n",
       "    </tr>\n",
       "  </tbody>\n",
       "</table>\n",
       "<p>1000 rows × 4 columns</p>\n",
       "</div>"
      ],
      "text/plain": [
       "                                                 Title  Price  Ratings  \\\n",
       "0                                 A Light in the Attic  51.77        3   \n",
       "1                                   Tipping the Velvet  53.74        1   \n",
       "2                                           Soumission  50.10        1   \n",
       "3                                        Sharp Objects  47.82        4   \n",
       "4                Sapiens: A Brief History of Humankind  54.23        5   \n",
       "..                                                 ...    ...      ...   \n",
       "995  Alice in Wonderland (Alice's Adventures in Won...  55.53        1   \n",
       "996   Ajin: Demi-Human, Volume 1 (Ajin: Demi-Human #1)  57.06        4   \n",
       "997  A Spy's Devotion (The Regency Spies of London #1)  16.97        5   \n",
       "998                1st to Die (Women's Murder Club #1)  53.98        1   \n",
       "999                 1,000 Places to See Before You Die  26.08        5   \n",
       "\n",
       "    Availability  \n",
       "0       In stock  \n",
       "1       In stock  \n",
       "2       In stock  \n",
       "3       In stock  \n",
       "4       In stock  \n",
       "..           ...  \n",
       "995     In stock  \n",
       "996     In stock  \n",
       "997     In stock  \n",
       "998     In stock  \n",
       "999     In stock  \n",
       "\n",
       "[1000 rows x 4 columns]"
      ]
     },
     "execution_count": 27,
     "metadata": {},
     "output_type": "execute_result"
    }
   ],
   "source": [
    "df = pd.DataFrame({\n",
    "    \"Title\" : Title,\n",
    "    \"Price\" : Price,\n",
    "    \"Ratings\" : Rating,\n",
    "    \"Availability\" : Availability\n",
    "})\n",
    "df"
   ]
  },
  {
   "cell_type": "code",
   "execution_count": 28,
   "metadata": {},
   "outputs": [
    {
     "name": "stdout",
     "output_type": "stream",
     "text": [
      "<class 'pandas.core.frame.DataFrame'>\n",
      "RangeIndex: 1000 entries, 0 to 999\n",
      "Data columns (total 4 columns):\n",
      " #   Column        Non-Null Count  Dtype  \n",
      "---  ------        --------------  -----  \n",
      " 0   Title         1000 non-null   object \n",
      " 1   Price         1000 non-null   float64\n",
      " 2   Ratings       1000 non-null   int64  \n",
      " 3   Availability  1000 non-null   object \n",
      "dtypes: float64(1), int64(1), object(2)\n",
      "memory usage: 31.4+ KB\n"
     ]
    }
   ],
   "source": [
    "df.info()"
   ]
  },
  {
   "cell_type": "code",
   "execution_count": 29,
   "metadata": {},
   "outputs": [
    {
     "data": {
      "text/plain": [
       "Title           0\n",
       "Price           0\n",
       "Ratings         0\n",
       "Availability    0\n",
       "dtype: int64"
      ]
     },
     "execution_count": 29,
     "metadata": {},
     "output_type": "execute_result"
    }
   ],
   "source": [
    "df.isnull().sum()"
   ]
  },
  {
   "cell_type": "code",
   "execution_count": 30,
   "metadata": {},
   "outputs": [
    {
     "data": {
      "text/plain": [
       "np.int64(0)"
      ]
     },
     "execution_count": 30,
     "metadata": {},
     "output_type": "execute_result"
    }
   ],
   "source": [
    "df.duplicated().sum()"
   ]
  },
  {
   "cell_type": "code",
   "execution_count": null,
   "metadata": {},
   "outputs": [],
   "source": [
    "df.to_csv(\"Book_Details.csv\",index = False)"
   ]
  }
 ],
 "metadata": {
  "kernelspec": {
   "display_name": "Python 3",
   "language": "python",
   "name": "python3"
  },
  "language_info": {
   "codemirror_mode": {
    "name": "ipython",
    "version": 3
   },
   "file_extension": ".py",
   "mimetype": "text/x-python",
   "name": "python",
   "nbconvert_exporter": "python",
   "pygments_lexer": "ipython3",
   "version": "3.13.1"
  }
 },
 "nbformat": 4,
 "nbformat_minor": 2
}
